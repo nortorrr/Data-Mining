{
 "cells": [
  {
   "cell_type": "code",
   "execution_count": 1,
   "id": "9a76f959",
   "metadata": {},
   "outputs": [],
   "source": [
    "from sklearn.cluster import KMeans\n",
    "from sklearn.cluster import AgglomerativeClustering\n",
    "from sklearn.preprocessing import StandardScaler\n",
    "import matplotlib.pyplot as plt"
   ]
  },
  {
   "cell_type": "code",
   "execution_count": 2,
   "id": "66b3f902",
   "metadata": {},
   "outputs": [],
   "source": [
    "import pandas as pd\n",
    "import numpy as np"
   ]
  },
  {
   "cell_type": "markdown",
   "id": "f4550baf",
   "metadata": {},
   "source": [
    "# Load Data"
   ]
  },
  {
   "cell_type": "code",
   "execution_count": 3,
   "id": "02dbebec",
   "metadata": {},
   "outputs": [
    {
     "data": {
      "text/html": [
       "<div>\n",
       "<style scoped>\n",
       "    .dataframe tbody tr th:only-of-type {\n",
       "        vertical-align: middle;\n",
       "    }\n",
       "\n",
       "    .dataframe tbody tr th {\n",
       "        vertical-align: top;\n",
       "    }\n",
       "\n",
       "    .dataframe thead th {\n",
       "        text-align: right;\n",
       "    }\n",
       "</style>\n",
       "<table border=\"1\" class=\"dataframe\">\n",
       "  <thead>\n",
       "    <tr style=\"text-align: right;\">\n",
       "      <th></th>\n",
       "      <th>School_Name</th>\n",
       "      <th>School_Type</th>\n",
       "      <th>Starting Median Salary</th>\n",
       "      <th>Mid-Career Median Salary</th>\n",
       "      <th>Mid-Career 10th Percentile Salary</th>\n",
       "      <th>Mid-Career 25th Percentile Salary</th>\n",
       "      <th>Mid-Career 75th Percentile Salary</th>\n",
       "      <th>Mid-Career 90th Percentile Salary</th>\n",
       "    </tr>\n",
       "  </thead>\n",
       "  <tbody>\n",
       "    <tr>\n",
       "      <th>0</th>\n",
       "      <td>Massachusetts Institute of Technology (MIT)</td>\n",
       "      <td>Engineering</td>\n",
       "      <td>72200</td>\n",
       "      <td>126000</td>\n",
       "      <td>76800.0</td>\n",
       "      <td>99200</td>\n",
       "      <td>168000</td>\n",
       "      <td>220000.0</td>\n",
       "    </tr>\n",
       "    <tr>\n",
       "      <th>1</th>\n",
       "      <td>California Institute of Technology (CIT)</td>\n",
       "      <td>Engineering</td>\n",
       "      <td>75500</td>\n",
       "      <td>123000</td>\n",
       "      <td>NaN</td>\n",
       "      <td>104000</td>\n",
       "      <td>161000</td>\n",
       "      <td>NaN</td>\n",
       "    </tr>\n",
       "    <tr>\n",
       "      <th>2</th>\n",
       "      <td>Harvey Mudd College</td>\n",
       "      <td>Engineering</td>\n",
       "      <td>71800</td>\n",
       "      <td>122000</td>\n",
       "      <td>NaN</td>\n",
       "      <td>96000</td>\n",
       "      <td>180000</td>\n",
       "      <td>NaN</td>\n",
       "    </tr>\n",
       "    <tr>\n",
       "      <th>3</th>\n",
       "      <td>Polytechnic University of New York, Brooklyn</td>\n",
       "      <td>Engineering</td>\n",
       "      <td>62400</td>\n",
       "      <td>114000</td>\n",
       "      <td>66800.0</td>\n",
       "      <td>94300</td>\n",
       "      <td>143000</td>\n",
       "      <td>190000.0</td>\n",
       "    </tr>\n",
       "    <tr>\n",
       "      <th>4</th>\n",
       "      <td>Cooper Union</td>\n",
       "      <td>Engineering</td>\n",
       "      <td>62200</td>\n",
       "      <td>114000</td>\n",
       "      <td>NaN</td>\n",
       "      <td>80200</td>\n",
       "      <td>142000</td>\n",
       "      <td>NaN</td>\n",
       "    </tr>\n",
       "  </tbody>\n",
       "</table>\n",
       "</div>"
      ],
      "text/plain": [
       "                                    School_Name  School_Type  \\\n",
       "0   Massachusetts Institute of Technology (MIT)  Engineering   \n",
       "1      California Institute of Technology (CIT)  Engineering   \n",
       "2                           Harvey Mudd College  Engineering   \n",
       "3  Polytechnic University of New York, Brooklyn  Engineering   \n",
       "4                                  Cooper Union  Engineering   \n",
       "\n",
       "   Starting Median Salary  Mid-Career Median Salary  \\\n",
       "0                   72200                    126000   \n",
       "1                   75500                    123000   \n",
       "2                   71800                    122000   \n",
       "3                   62400                    114000   \n",
       "4                   62200                    114000   \n",
       "\n",
       "   Mid-Career 10th Percentile Salary  Mid-Career 25th Percentile Salary  \\\n",
       "0                            76800.0                              99200   \n",
       "1                                NaN                             104000   \n",
       "2                                NaN                              96000   \n",
       "3                            66800.0                              94300   \n",
       "4                                NaN                              80200   \n",
       "\n",
       "   Mid-Career 75th Percentile Salary  Mid-Career 90th Percentile Salary  \n",
       "0                             168000                           220000.0  \n",
       "1                             161000                                NaN  \n",
       "2                             180000                                NaN  \n",
       "3                             143000                           190000.0  \n",
       "4                             142000                                NaN  "
      ]
     },
     "execution_count": 3,
     "metadata": {},
     "output_type": "execute_result"
    }
   ],
   "source": [
    "df_path = 'salaries-by-college-type.csv'\n",
    "df_type = pd.read_csv(df_path)\n",
    "df_type.head()"
   ]
  },
  {
   "cell_type": "code",
   "execution_count": 4,
   "id": "68750e62",
   "metadata": {},
   "outputs": [
    {
     "data": {
      "text/html": [
       "<div>\n",
       "<style scoped>\n",
       "    .dataframe tbody tr th:only-of-type {\n",
       "        vertical-align: middle;\n",
       "    }\n",
       "\n",
       "    .dataframe tbody tr th {\n",
       "        vertical-align: top;\n",
       "    }\n",
       "\n",
       "    .dataframe thead th {\n",
       "        text-align: right;\n",
       "    }\n",
       "</style>\n",
       "<table border=\"1\" class=\"dataframe\">\n",
       "  <thead>\n",
       "    <tr style=\"text-align: right;\">\n",
       "      <th></th>\n",
       "      <th>School_Type</th>\n",
       "      <th>Starting Median Salary</th>\n",
       "      <th>Mid-Career Median Salary</th>\n",
       "      <th>Mid-Career 10th Percentile Salary</th>\n",
       "      <th>Mid-Career 25th Percentile Salary</th>\n",
       "      <th>Mid-Career 75th Percentile Salary</th>\n",
       "      <th>Mid-Career 90th Percentile Salary</th>\n",
       "    </tr>\n",
       "  </thead>\n",
       "  <tbody>\n",
       "    <tr>\n",
       "      <th>0</th>\n",
       "      <td>Engineering</td>\n",
       "      <td>72200</td>\n",
       "      <td>126000</td>\n",
       "      <td>76800.0</td>\n",
       "      <td>99200</td>\n",
       "      <td>168000</td>\n",
       "      <td>220000.0</td>\n",
       "    </tr>\n",
       "    <tr>\n",
       "      <th>1</th>\n",
       "      <td>Engineering</td>\n",
       "      <td>75500</td>\n",
       "      <td>123000</td>\n",
       "      <td>NaN</td>\n",
       "      <td>104000</td>\n",
       "      <td>161000</td>\n",
       "      <td>NaN</td>\n",
       "    </tr>\n",
       "    <tr>\n",
       "      <th>2</th>\n",
       "      <td>Engineering</td>\n",
       "      <td>71800</td>\n",
       "      <td>122000</td>\n",
       "      <td>NaN</td>\n",
       "      <td>96000</td>\n",
       "      <td>180000</td>\n",
       "      <td>NaN</td>\n",
       "    </tr>\n",
       "    <tr>\n",
       "      <th>3</th>\n",
       "      <td>Engineering</td>\n",
       "      <td>62400</td>\n",
       "      <td>114000</td>\n",
       "      <td>66800.0</td>\n",
       "      <td>94300</td>\n",
       "      <td>143000</td>\n",
       "      <td>190000.0</td>\n",
       "    </tr>\n",
       "    <tr>\n",
       "      <th>4</th>\n",
       "      <td>Engineering</td>\n",
       "      <td>62200</td>\n",
       "      <td>114000</td>\n",
       "      <td>NaN</td>\n",
       "      <td>80200</td>\n",
       "      <td>142000</td>\n",
       "      <td>NaN</td>\n",
       "    </tr>\n",
       "  </tbody>\n",
       "</table>\n",
       "</div>"
      ],
      "text/plain": [
       "   School_Type  Starting Median Salary  Mid-Career Median Salary  \\\n",
       "0  Engineering                   72200                    126000   \n",
       "1  Engineering                   75500                    123000   \n",
       "2  Engineering                   71800                    122000   \n",
       "3  Engineering                   62400                    114000   \n",
       "4  Engineering                   62200                    114000   \n",
       "\n",
       "   Mid-Career 10th Percentile Salary  Mid-Career 25th Percentile Salary  \\\n",
       "0                            76800.0                              99200   \n",
       "1                                NaN                             104000   \n",
       "2                                NaN                              96000   \n",
       "3                            66800.0                              94300   \n",
       "4                                NaN                              80200   \n",
       "\n",
       "   Mid-Career 75th Percentile Salary  Mid-Career 90th Percentile Salary  \n",
       "0                             168000                           220000.0  \n",
       "1                             161000                                NaN  \n",
       "2                             180000                                NaN  \n",
       "3                             143000                           190000.0  \n",
       "4                             142000                                NaN  "
      ]
     },
     "execution_count": 4,
     "metadata": {},
     "output_type": "execute_result"
    }
   ],
   "source": [
    "#เนื่องจาก School_Name ไม่มีผลต่อการวิเคราะห์ข้อมูลจากทำการ drop\n",
    "df = df_type.drop(columns = 'School_Name')\n",
    "df.head()"
   ]
  },
  {
   "cell_type": "markdown",
   "id": "2be0082a",
   "metadata": {},
   "source": [
    "# Data Summarization and Exploration"
   ]
  },
  {
   "cell_type": "code",
   "execution_count": 5,
   "id": "cd7475f4",
   "metadata": {},
   "outputs": [
    {
     "data": {
      "text/plain": [
       "(269, 7)"
      ]
     },
     "execution_count": 5,
     "metadata": {},
     "output_type": "execute_result"
    }
   ],
   "source": [
    "#บอกจำนวน instant และ feature จากผลลัพธ์จะเห็นว่าทั้งหมดมี instant ทั้งหมด 269 ตัว และมี feature 7 ตัว\n",
    "df.shape"
   ]
  },
  {
   "cell_type": "code",
   "execution_count": 6,
   "id": "2e1229d2",
   "metadata": {},
   "outputs": [
    {
     "data": {
      "text/html": [
       "<div>\n",
       "<style scoped>\n",
       "    .dataframe tbody tr th:only-of-type {\n",
       "        vertical-align: middle;\n",
       "    }\n",
       "\n",
       "    .dataframe tbody tr th {\n",
       "        vertical-align: top;\n",
       "    }\n",
       "\n",
       "    .dataframe thead th {\n",
       "        text-align: right;\n",
       "    }\n",
       "</style>\n",
       "<table border=\"1\" class=\"dataframe\">\n",
       "  <thead>\n",
       "    <tr style=\"text-align: right;\">\n",
       "      <th></th>\n",
       "      <th>Starting Median Salary</th>\n",
       "      <th>Mid-Career Median Salary</th>\n",
       "      <th>Mid-Career 10th Percentile Salary</th>\n",
       "      <th>Mid-Career 25th Percentile Salary</th>\n",
       "      <th>Mid-Career 75th Percentile Salary</th>\n",
       "      <th>Mid-Career 90th Percentile Salary</th>\n",
       "    </tr>\n",
       "  </thead>\n",
       "  <tbody>\n",
       "    <tr>\n",
       "      <th>count</th>\n",
       "      <td>269.000000</td>\n",
       "      <td>269.000000</td>\n",
       "      <td>231.000000</td>\n",
       "      <td>269.000000</td>\n",
       "      <td>269.000000</td>\n",
       "      <td>231.000000</td>\n",
       "    </tr>\n",
       "    <tr>\n",
       "      <th>mean</th>\n",
       "      <td>46068.401487</td>\n",
       "      <td>83932.342007</td>\n",
       "      <td>44250.649351</td>\n",
       "      <td>60373.234201</td>\n",
       "      <td>116275.092937</td>\n",
       "      <td>157705.627706</td>\n",
       "    </tr>\n",
       "    <tr>\n",
       "      <th>std</th>\n",
       "      <td>6412.616242</td>\n",
       "      <td>14336.191107</td>\n",
       "      <td>8719.612427</td>\n",
       "      <td>11381.348857</td>\n",
       "      <td>22952.334054</td>\n",
       "      <td>34823.348157</td>\n",
       "    </tr>\n",
       "    <tr>\n",
       "      <th>min</th>\n",
       "      <td>34800.000000</td>\n",
       "      <td>43900.000000</td>\n",
       "      <td>22600.000000</td>\n",
       "      <td>31800.000000</td>\n",
       "      <td>60900.000000</td>\n",
       "      <td>87600.000000</td>\n",
       "    </tr>\n",
       "    <tr>\n",
       "      <th>25%</th>\n",
       "      <td>42000.000000</td>\n",
       "      <td>74000.000000</td>\n",
       "      <td>39000.000000</td>\n",
       "      <td>53200.000000</td>\n",
       "      <td>100000.000000</td>\n",
       "      <td>136000.000000</td>\n",
       "    </tr>\n",
       "    <tr>\n",
       "      <th>50%</th>\n",
       "      <td>44700.000000</td>\n",
       "      <td>81600.000000</td>\n",
       "      <td>43100.000000</td>\n",
       "      <td>58400.000000</td>\n",
       "      <td>113000.000000</td>\n",
       "      <td>153000.000000</td>\n",
       "    </tr>\n",
       "    <tr>\n",
       "      <th>75%</th>\n",
       "      <td>48300.000000</td>\n",
       "      <td>92200.000000</td>\n",
       "      <td>47400.000000</td>\n",
       "      <td>65100.000000</td>\n",
       "      <td>126000.000000</td>\n",
       "      <td>170500.000000</td>\n",
       "    </tr>\n",
       "    <tr>\n",
       "      <th>max</th>\n",
       "      <td>75500.000000</td>\n",
       "      <td>134000.000000</td>\n",
       "      <td>80000.000000</td>\n",
       "      <td>104000.000000</td>\n",
       "      <td>234000.000000</td>\n",
       "      <td>326000.000000</td>\n",
       "    </tr>\n",
       "  </tbody>\n",
       "</table>\n",
       "</div>"
      ],
      "text/plain": [
       "       Starting Median Salary  Mid-Career Median Salary  \\\n",
       "count              269.000000                269.000000   \n",
       "mean             46068.401487              83932.342007   \n",
       "std               6412.616242              14336.191107   \n",
       "min              34800.000000              43900.000000   \n",
       "25%              42000.000000              74000.000000   \n",
       "50%              44700.000000              81600.000000   \n",
       "75%              48300.000000              92200.000000   \n",
       "max              75500.000000             134000.000000   \n",
       "\n",
       "       Mid-Career 10th Percentile Salary  Mid-Career 25th Percentile Salary  \\\n",
       "count                         231.000000                         269.000000   \n",
       "mean                        44250.649351                       60373.234201   \n",
       "std                          8719.612427                       11381.348857   \n",
       "min                         22600.000000                       31800.000000   \n",
       "25%                         39000.000000                       53200.000000   \n",
       "50%                         43100.000000                       58400.000000   \n",
       "75%                         47400.000000                       65100.000000   \n",
       "max                         80000.000000                      104000.000000   \n",
       "\n",
       "       Mid-Career 75th Percentile Salary  Mid-Career 90th Percentile Salary  \n",
       "count                         269.000000                         231.000000  \n",
       "mean                       116275.092937                      157705.627706  \n",
       "std                         22952.334054                       34823.348157  \n",
       "min                         60900.000000                       87600.000000  \n",
       "25%                        100000.000000                      136000.000000  \n",
       "50%                        113000.000000                      153000.000000  \n",
       "75%                        126000.000000                      170500.000000  \n",
       "max                        234000.000000                      326000.000000  "
      ]
     },
     "execution_count": 6,
     "metadata": {},
     "output_type": "execute_result"
    }
   ],
   "source": [
    "#ดูข้อมูลสถิติเบื้องต้น โดยผลลัพธ์ที่ได้จะประกอบไปด้วย จำนวน ค่าเฉลี่ย ส่วนเบี่ยงเบนมาตรฐาน ค่าต่ำสุด ค่าเปอร์เซ็นที่ 25 50 75 และค่าสูงสุดของแต่ละ feature\n",
    "df.describe()"
   ]
  },
  {
   "cell_type": "code",
   "execution_count": 7,
   "id": "09816a59",
   "metadata": {},
   "outputs": [
    {
     "name": "stdout",
     "output_type": "stream",
     "text": [
      "<class 'pandas.core.frame.DataFrame'>\n",
      "RangeIndex: 269 entries, 0 to 268\n",
      "Data columns (total 7 columns):\n",
      " #   Column                             Non-Null Count  Dtype  \n",
      "---  ------                             --------------  -----  \n",
      " 0   School_Type                        269 non-null    object \n",
      " 1   Starting Median Salary             269 non-null    int64  \n",
      " 2   Mid-Career Median Salary           269 non-null    int64  \n",
      " 3   Mid-Career 10th Percentile Salary  231 non-null    float64\n",
      " 4   Mid-Career 25th Percentile Salary  269 non-null    int64  \n",
      " 5   Mid-Career 75th Percentile Salary  269 non-null    int64  \n",
      " 6   Mid-Career 90th Percentile Salary  231 non-null    float64\n",
      "dtypes: float64(2), int64(4), object(1)\n",
      "memory usage: 14.8+ KB\n"
     ]
    }
   ],
   "source": [
    "#เพื่อดูข้อมูลเบื้องต้น ทำให้ทราบว่าข้อมูลมี instant 50 ตัว มี feature 8 ตัว มีข้อมูลที่เป็น float 2 ตัว int 4 ตัว และ object 1 ตัว \n",
    "#และสามารถดูได้ว่า feature ใดบ้างที่มี missing \n",
    "df.info()"
   ]
  },
  {
   "cell_type": "markdown",
   "id": "23c74565",
   "metadata": {},
   "source": [
    "# Cleaning data by missing"
   ]
  },
  {
   "cell_type": "code",
   "execution_count": 8,
   "id": "d8e2042f",
   "metadata": {},
   "outputs": [
    {
     "data": {
      "text/plain": [
       "School_Type                           0\n",
       "Starting Median Salary                0\n",
       "Mid-Career Median Salary              0\n",
       "Mid-Career 10th Percentile Salary    38\n",
       "Mid-Career 25th Percentile Salary     0\n",
       "Mid-Career 75th Percentile Salary     0\n",
       "Mid-Career 90th Percentile Salary    38\n",
       "dtype: int64"
      ]
     },
     "execution_count": 8,
     "metadata": {},
     "output_type": "execute_result"
    }
   ],
   "source": [
    "#เพื่อดูว่า feature ใดบ้างที่มี missing จากผลลัพธ์จะเห็นว่า feature 'Mid-Career 10th Percentile Salary' และ \n",
    "#'Mid-Career 90th Percentile Salary'มีค่าว่าง 38 ค่า\n",
    "df.isnull().sum()"
   ]
  },
  {
   "cell_type": "code",
   "execution_count": 9,
   "id": "745c698e",
   "metadata": {},
   "outputs": [],
   "source": [
    "#ให้ใส่ค่า mean ในช่องที่มี missing \n",
    "## Mid-Career 10th Percentile Salary\n",
    "df['Mid-Career 10th Percentile Salary'].fillna((df['Mid-Career 10th Percentile Salary']).mean() , inplace=True)"
   ]
  },
  {
   "cell_type": "code",
   "execution_count": 10,
   "id": "0bc1ff40",
   "metadata": {},
   "outputs": [],
   "source": [
    "## Mid-Career 90th Percentile Salary \n",
    "df['Mid-Career 90th Percentile Salary'].fillna((df['Mid-Career 90th Percentile Salary']).mean() , inplace=True)"
   ]
  },
  {
   "cell_type": "code",
   "execution_count": 11,
   "id": "0e501873",
   "metadata": {},
   "outputs": [
    {
     "data": {
      "text/plain": [
       "School_Type                          0\n",
       "Starting Median Salary               0\n",
       "Mid-Career Median Salary             0\n",
       "Mid-Career 10th Percentile Salary    0\n",
       "Mid-Career 25th Percentile Salary    0\n",
       "Mid-Career 75th Percentile Salary    0\n",
       "Mid-Career 90th Percentile Salary    0\n",
       "dtype: int64"
      ]
     },
     "execution_count": 11,
     "metadata": {},
     "output_type": "execute_result"
    }
   ],
   "source": [
    "#ใช้คำสั่ง isnull() อีกครั้งเพื่อดูว่ายังมี feature ใดบ้างที่มี missing อยู่ จากผลลัพธ์จะเห็นว่าทุก feature ไม่มี missing\n",
    "df.isnull().sum()"
   ]
  },
  {
   "cell_type": "markdown",
   "id": "96ab2ca1",
   "metadata": {},
   "source": [
    "# Cleaning data by nunique"
   ]
  },
  {
   "cell_type": "code",
   "execution_count": 12,
   "id": "ba567b09",
   "metadata": {},
   "outputs": [
    {
     "name": "stdout",
     "output_type": "stream",
     "text": [
      "(269, 7)\n"
     ]
    }
   ],
   "source": [
    "#ให้ลบรายการที่ซ้ำออก เนื่องจากไม่มีค่าซ้ำจึงได้ instant 269 ตัว feature 7 ตัวเท่าเดิม \n",
    "df.drop_duplicates(inplace=True)\n",
    "print(df.shape)"
   ]
  },
  {
   "cell_type": "markdown",
   "id": "c3cd16bc",
   "metadata": {},
   "source": [
    "# Cleaning data by dummy"
   ]
  },
  {
   "cell_type": "code",
   "execution_count": 13,
   "id": "3e8b8910",
   "metadata": {},
   "outputs": [
    {
     "data": {
      "text/plain": [
       "School_Type                            5\n",
       "Starting Median Salary               145\n",
       "Mid-Career Median Salary             168\n",
       "Mid-Career 10th Percentile Salary    142\n",
       "Mid-Career 25th Percentile Salary    178\n",
       "Mid-Career 75th Percentile Salary    110\n",
       "Mid-Career 90th Percentile Salary     99\n",
       "dtype: int64"
      ]
     },
     "execution_count": 13,
     "metadata": {},
     "output_type": "execute_result"
    }
   ],
   "source": [
    "#ดูว่าแต่ละ feature มี instant ที่ไม่มีแตกต่างกี่ค่า จากผลลัพธ์จะเห็นว่า feature 'School_Type' มีจำนวน instant ที่ไม่มีแตกต่างกัน 5 \n",
    "#แต่เนื่องจาก School_Type เป็นค่า ground truth จึงไม่ได้ทำเป็น dummy\n",
    "df.nunique()"
   ]
  },
  {
   "cell_type": "code",
   "execution_count": 14,
   "id": "844d882e",
   "metadata": {},
   "outputs": [
    {
     "data": {
      "text/html": [
       "<div>\n",
       "<style scoped>\n",
       "    .dataframe tbody tr th:only-of-type {\n",
       "        vertical-align: middle;\n",
       "    }\n",
       "\n",
       "    .dataframe tbody tr th {\n",
       "        vertical-align: top;\n",
       "    }\n",
       "\n",
       "    .dataframe thead th {\n",
       "        text-align: right;\n",
       "    }\n",
       "</style>\n",
       "<table border=\"1\" class=\"dataframe\">\n",
       "  <thead>\n",
       "    <tr style=\"text-align: right;\">\n",
       "      <th></th>\n",
       "      <th>School_Type</th>\n",
       "      <th>Starting Median Salary</th>\n",
       "      <th>Mid-Career Median Salary</th>\n",
       "      <th>Mid-Career 10th Percentile Salary</th>\n",
       "      <th>Mid-Career 25th Percentile Salary</th>\n",
       "      <th>Mid-Career 75th Percentile Salary</th>\n",
       "      <th>Mid-Career 90th Percentile Salary</th>\n",
       "    </tr>\n",
       "  </thead>\n",
       "  <tbody>\n",
       "    <tr>\n",
       "      <th>0</th>\n",
       "      <td>Engineering</td>\n",
       "      <td>72200</td>\n",
       "      <td>126000</td>\n",
       "      <td>76800.000000</td>\n",
       "      <td>99200</td>\n",
       "      <td>168000</td>\n",
       "      <td>220000.000000</td>\n",
       "    </tr>\n",
       "    <tr>\n",
       "      <th>1</th>\n",
       "      <td>Engineering</td>\n",
       "      <td>75500</td>\n",
       "      <td>123000</td>\n",
       "      <td>44250.649351</td>\n",
       "      <td>104000</td>\n",
       "      <td>161000</td>\n",
       "      <td>157705.627706</td>\n",
       "    </tr>\n",
       "    <tr>\n",
       "      <th>2</th>\n",
       "      <td>Engineering</td>\n",
       "      <td>71800</td>\n",
       "      <td>122000</td>\n",
       "      <td>44250.649351</td>\n",
       "      <td>96000</td>\n",
       "      <td>180000</td>\n",
       "      <td>157705.627706</td>\n",
       "    </tr>\n",
       "    <tr>\n",
       "      <th>3</th>\n",
       "      <td>Engineering</td>\n",
       "      <td>62400</td>\n",
       "      <td>114000</td>\n",
       "      <td>66800.000000</td>\n",
       "      <td>94300</td>\n",
       "      <td>143000</td>\n",
       "      <td>190000.000000</td>\n",
       "    </tr>\n",
       "    <tr>\n",
       "      <th>4</th>\n",
       "      <td>Engineering</td>\n",
       "      <td>62200</td>\n",
       "      <td>114000</td>\n",
       "      <td>44250.649351</td>\n",
       "      <td>80200</td>\n",
       "      <td>142000</td>\n",
       "      <td>157705.627706</td>\n",
       "    </tr>\n",
       "  </tbody>\n",
       "</table>\n",
       "</div>"
      ],
      "text/plain": [
       "   School_Type  Starting Median Salary  Mid-Career Median Salary  \\\n",
       "0  Engineering                   72200                    126000   \n",
       "1  Engineering                   75500                    123000   \n",
       "2  Engineering                   71800                    122000   \n",
       "3  Engineering                   62400                    114000   \n",
       "4  Engineering                   62200                    114000   \n",
       "\n",
       "   Mid-Career 10th Percentile Salary  Mid-Career 25th Percentile Salary  \\\n",
       "0                       76800.000000                              99200   \n",
       "1                       44250.649351                             104000   \n",
       "2                       44250.649351                              96000   \n",
       "3                       66800.000000                              94300   \n",
       "4                       44250.649351                              80200   \n",
       "\n",
       "   Mid-Career 75th Percentile Salary  Mid-Career 90th Percentile Salary  \n",
       "0                             168000                      220000.000000  \n",
       "1                             161000                      157705.627706  \n",
       "2                             180000                      157705.627706  \n",
       "3                             143000                      190000.000000  \n",
       "4                             142000                      157705.627706  "
      ]
     },
     "execution_count": 14,
     "metadata": {},
     "output_type": "execute_result"
    }
   ],
   "source": [
    "# School_Type เป็นค่า ground truth\n",
    "df.head() "
   ]
  },
  {
   "cell_type": "code",
   "execution_count": 15,
   "id": "7fe253ed",
   "metadata": {},
   "outputs": [
    {
     "name": "stdout",
     "output_type": "stream",
     "text": [
      "5\n"
     ]
    },
    {
     "data": {
      "text/html": [
       "<div>\n",
       "<style scoped>\n",
       "    .dataframe tbody tr th:only-of-type {\n",
       "        vertical-align: middle;\n",
       "    }\n",
       "\n",
       "    .dataframe tbody tr th {\n",
       "        vertical-align: top;\n",
       "    }\n",
       "\n",
       "    .dataframe thead th {\n",
       "        text-align: right;\n",
       "    }\n",
       "</style>\n",
       "<table border=\"1\" class=\"dataframe\">\n",
       "  <thead>\n",
       "    <tr style=\"text-align: right;\">\n",
       "      <th></th>\n",
       "      <th>Starting Median Salary</th>\n",
       "      <th>Mid-Career Median Salary</th>\n",
       "      <th>Mid-Career 10th Percentile Salary</th>\n",
       "      <th>Mid-Career 25th Percentile Salary</th>\n",
       "      <th>Mid-Career 75th Percentile Salary</th>\n",
       "      <th>Mid-Career 90th Percentile Salary</th>\n",
       "    </tr>\n",
       "  </thead>\n",
       "  <tbody>\n",
       "    <tr>\n",
       "      <th>0</th>\n",
       "      <td>72200</td>\n",
       "      <td>126000</td>\n",
       "      <td>76800.000000</td>\n",
       "      <td>99200</td>\n",
       "      <td>168000</td>\n",
       "      <td>220000.000000</td>\n",
       "    </tr>\n",
       "    <tr>\n",
       "      <th>1</th>\n",
       "      <td>75500</td>\n",
       "      <td>123000</td>\n",
       "      <td>44250.649351</td>\n",
       "      <td>104000</td>\n",
       "      <td>161000</td>\n",
       "      <td>157705.627706</td>\n",
       "    </tr>\n",
       "    <tr>\n",
       "      <th>2</th>\n",
       "      <td>71800</td>\n",
       "      <td>122000</td>\n",
       "      <td>44250.649351</td>\n",
       "      <td>96000</td>\n",
       "      <td>180000</td>\n",
       "      <td>157705.627706</td>\n",
       "    </tr>\n",
       "    <tr>\n",
       "      <th>3</th>\n",
       "      <td>62400</td>\n",
       "      <td>114000</td>\n",
       "      <td>66800.000000</td>\n",
       "      <td>94300</td>\n",
       "      <td>143000</td>\n",
       "      <td>190000.000000</td>\n",
       "    </tr>\n",
       "    <tr>\n",
       "      <th>4</th>\n",
       "      <td>62200</td>\n",
       "      <td>114000</td>\n",
       "      <td>44250.649351</td>\n",
       "      <td>80200</td>\n",
       "      <td>142000</td>\n",
       "      <td>157705.627706</td>\n",
       "    </tr>\n",
       "  </tbody>\n",
       "</table>\n",
       "</div>"
      ],
      "text/plain": [
       "   Starting Median Salary  Mid-Career Median Salary  \\\n",
       "0                   72200                    126000   \n",
       "1                   75500                    123000   \n",
       "2                   71800                    122000   \n",
       "3                   62400                    114000   \n",
       "4                   62200                    114000   \n",
       "\n",
       "   Mid-Career 10th Percentile Salary  Mid-Career 25th Percentile Salary  \\\n",
       "0                       76800.000000                              99200   \n",
       "1                       44250.649351                             104000   \n",
       "2                       44250.649351                              96000   \n",
       "3                       66800.000000                              94300   \n",
       "4                       44250.649351                              80200   \n",
       "\n",
       "   Mid-Career 75th Percentile Salary  Mid-Career 90th Percentile Salary  \n",
       "0                             168000                      220000.000000  \n",
       "1                             161000                      157705.627706  \n",
       "2                             180000                      157705.627706  \n",
       "3                             143000                      190000.000000  \n",
       "4                             142000                      157705.627706  "
      ]
     },
     "execution_count": 15,
     "metadata": {},
     "output_type": "execute_result"
    }
   ],
   "source": [
    "# Setting input features x and target output y\n",
    "x = df.iloc[:,1:] #กำหนดให้ X เก็บทุก instant ยกเว้น feature แรก\n",
    "y = df['School_Type'] #กำหนดให้ y เก็บทุก instant ใน feature 'School_Type'\n",
    "n_class = len(np.unique(y)) ; print(n_class)\n",
    "x.head()"
   ]
  },
  {
   "cell_type": "code",
   "execution_count": 16,
   "id": "571aa94c",
   "metadata": {},
   "outputs": [
    {
     "name": "stdout",
     "output_type": "stream",
     "text": [
      "5\n"
     ]
    },
    {
     "data": {
      "text/html": [
       "<div>\n",
       "<style scoped>\n",
       "    .dataframe tbody tr th:only-of-type {\n",
       "        vertical-align: middle;\n",
       "    }\n",
       "\n",
       "    .dataframe tbody tr th {\n",
       "        vertical-align: top;\n",
       "    }\n",
       "\n",
       "    .dataframe thead th {\n",
       "        text-align: right;\n",
       "    }\n",
       "</style>\n",
       "<table border=\"1\" class=\"dataframe\">\n",
       "  <thead>\n",
       "    <tr style=\"text-align: right;\">\n",
       "      <th></th>\n",
       "      <th>Starting Median Salary</th>\n",
       "      <th>Mid-Career Median Salary</th>\n",
       "      <th>Mid-Career 10th Percentile Salary</th>\n",
       "      <th>Mid-Career 25th Percentile Salary</th>\n",
       "      <th>Mid-Career 75th Percentile Salary</th>\n",
       "      <th>Mid-Career 90th Percentile Salary</th>\n",
       "    </tr>\n",
       "  </thead>\n",
       "  <tbody>\n",
       "    <tr>\n",
       "      <th>0</th>\n",
       "      <td>72200</td>\n",
       "      <td>126000</td>\n",
       "      <td>76800.000000</td>\n",
       "      <td>99200</td>\n",
       "      <td>168000</td>\n",
       "      <td>220000.000000</td>\n",
       "    </tr>\n",
       "    <tr>\n",
       "      <th>1</th>\n",
       "      <td>75500</td>\n",
       "      <td>123000</td>\n",
       "      <td>44250.649351</td>\n",
       "      <td>104000</td>\n",
       "      <td>161000</td>\n",
       "      <td>157705.627706</td>\n",
       "    </tr>\n",
       "    <tr>\n",
       "      <th>2</th>\n",
       "      <td>71800</td>\n",
       "      <td>122000</td>\n",
       "      <td>44250.649351</td>\n",
       "      <td>96000</td>\n",
       "      <td>180000</td>\n",
       "      <td>157705.627706</td>\n",
       "    </tr>\n",
       "    <tr>\n",
       "      <th>3</th>\n",
       "      <td>62400</td>\n",
       "      <td>114000</td>\n",
       "      <td>66800.000000</td>\n",
       "      <td>94300</td>\n",
       "      <td>143000</td>\n",
       "      <td>190000.000000</td>\n",
       "    </tr>\n",
       "    <tr>\n",
       "      <th>4</th>\n",
       "      <td>62200</td>\n",
       "      <td>114000</td>\n",
       "      <td>44250.649351</td>\n",
       "      <td>80200</td>\n",
       "      <td>142000</td>\n",
       "      <td>157705.627706</td>\n",
       "    </tr>\n",
       "  </tbody>\n",
       "</table>\n",
       "</div>"
      ],
      "text/plain": [
       "   Starting Median Salary  Mid-Career Median Salary  \\\n",
       "0                   72200                    126000   \n",
       "1                   75500                    123000   \n",
       "2                   71800                    122000   \n",
       "3                   62400                    114000   \n",
       "4                   62200                    114000   \n",
       "\n",
       "   Mid-Career 10th Percentile Salary  Mid-Career 25th Percentile Salary  \\\n",
       "0                       76800.000000                              99200   \n",
       "1                       44250.649351                             104000   \n",
       "2                       44250.649351                              96000   \n",
       "3                       66800.000000                              94300   \n",
       "4                       44250.649351                              80200   \n",
       "\n",
       "   Mid-Career 75th Percentile Salary  Mid-Career 90th Percentile Salary  \n",
       "0                             168000                      220000.000000  \n",
       "1                             161000                      157705.627706  \n",
       "2                             180000                      157705.627706  \n",
       "3                             143000                      190000.000000  \n",
       "4                             142000                      157705.627706  "
      ]
     },
     "execution_count": 16,
     "metadata": {},
     "output_type": "execute_result"
    }
   ],
   "source": [
    "# Setting input features x and target output y\n",
    "x = df.iloc[:,1:] #กำหนดให้ X เก็บทุก instant ยกเว้น feature แรก\n",
    "y = df['School_Type'] #กำหนดให้ y เก็บทุก instant ใน feature 'School_Type'\n",
    "n_class = len(np.unique(y)) ; print(n_class)\n",
    "x.head()"
   ]
  },
  {
   "cell_type": "code",
   "execution_count": 17,
   "id": "bce32179",
   "metadata": {},
   "outputs": [],
   "source": [
    "#ทำ scaler\n",
    "scaler = StandardScaler() \n",
    "X_std = scaler.fit_transform(x)"
   ]
  },
  {
   "cell_type": "markdown",
   "id": "5b8eb3cb",
   "metadata": {},
   "source": [
    "# K-means"
   ]
  },
  {
   "cell_type": "code",
   "execution_count": 18,
   "id": "893949ef",
   "metadata": {},
   "outputs": [],
   "source": [
    "#Elbow method \n",
    "sse = [] #กำหนด list เปล่าเพื่อใส่ค่า sse\n",
    "for i in range(1, 13): #เก็บค่า sse แต่ละโมเดลลงใน list ที่สร้างไว้ กำหนดให้ k เป็น 1-12 \n",
    "    kmeans = KMeans(n_clusters = i, init = 'k-means++', max_iter =300, n_init = 10, random_state = 0) #define model\n",
    "    kmeans.fit(X_std) #fit model\n",
    "    sse.append(kmeans.inertia_) #เก็บค่า sse แต่ละ clusters ใน sse"
   ]
  },
  {
   "cell_type": "code",
   "execution_count": 19,
   "id": "9dfb78d9",
   "metadata": {},
   "outputs": [
    {
     "data": {
      "image/png": "[encoded data removed]",
      "text/plain": [
       "<Figure size 480x320 with 1 Axes>"
      ]
     },
     "metadata": {},
     "output_type": "display_data"
    }
   ],
   "source": [
    "#จากภาพ จำนวน k จะเห็นว่า k=3 มีความเหมาะสมมากที่สุด\n",
    "plt.figure(figsize=(6, 4), dpi=80)\n",
    "plt.plot(range(1, 13), sse, color='orange')\n",
    "plt.title('The Elbow Method')\n",
    "plt.xlabel('Number of clusters')\n",
    "plt.ylabel('SSE')\n",
    "plt.show()"
   ]
  },
  {
   "cell_type": "code",
   "execution_count": 20,
   "id": "e5292ca9",
   "metadata": {},
   "outputs": [
    {
     "data": {
      "text/html": [
       "<style>#sk-container-id-1 {color: black;}#sk-container-id-1 pre{padding: 0;}#sk-container-id-1 div.sk-toggleable {background-color: white;}#sk-container-id-1 label.sk-toggleable__label {cursor: pointer;display: block;width: 100%;margin-bottom: 0;padding: 0.3em;box-sizing: border-box;text-align: center;}#sk-container-id-1 label.sk-toggleable__label-arrow:before {content: \"▸\";float: left;margin-right: 0.25em;color: #696969;}#sk-container-id-1 label.sk-toggleable__label-arrow:hover:before {color: black;}#sk-container-id-1 div.sk-estimator:hover label.sk-toggleable__label-arrow:before {color: black;}#sk-container-id-1 div.sk-toggleable__content {max-height: 0;max-width: 0;overflow: hidden;text-align: left;background-color: #f0f8ff;}#sk-container-id-1 div.sk-toggleable__content pre {margin: 0.2em;color: black;border-radius: 0.25em;background-color: #f0f8ff;}#sk-container-id-1 input.sk-toggleable__control:checked~div.sk-toggleable__content {max-height: 200px;max-width: 100%;overflow: auto;}#sk-container-id-1 input.sk-toggleable__control:checked~label.sk-toggleable__label-arrow:before {content: \"▾\";}#sk-container-id-1 div.sk-estimator input.sk-toggleable__control:checked~label.sk-toggleable__label {background-color: #d4ebff;}#sk-container-id-1 div.sk-label input.sk-toggleable__control:checked~label.sk-toggleable__label {background-color: #d4ebff;}#sk-container-id-1 input.sk-hidden--visually {border: 0;clip: rect(1px 1px 1px 1px);clip: rect(1px, 1px, 1px, 1px);height: 1px;margin: -1px;overflow: hidden;padding: 0;position: absolute;width: 1px;}#sk-container-id-1 div.sk-estimator {font-family: monospace;background-color: #f0f8ff;border: 1px dotted black;border-radius: 0.25em;box-sizing: border-box;margin-bottom: 0.5em;}#sk-container-id-1 div.sk-estimator:hover {background-color: #d4ebff;}#sk-container-id-1 div.sk-parallel-item::after {content: \"\";width: 100%;border-bottom: 1px solid gray;flex-grow: 1;}#sk-container-id-1 div.sk-label:hover label.sk-toggleable__label {background-color: #d4ebff;}#sk-container-id-1 div.sk-serial::before {content: \"\";position: absolute;border-left: 1px solid gray;box-sizing: border-box;top: 0;bottom: 0;left: 50%;z-index: 0;}#sk-container-id-1 div.sk-serial {display: flex;flex-direction: column;align-items: center;background-color: white;padding-right: 0.2em;padding-left: 0.2em;position: relative;}#sk-container-id-1 div.sk-item {position: relative;z-index: 1;}#sk-container-id-1 div.sk-parallel {display: flex;align-items: stretch;justify-content: center;background-color: white;position: relative;}#sk-container-id-1 div.sk-item::before, #sk-container-id-1 div.sk-parallel-item::before {content: \"\";position: absolute;border-left: 1px solid gray;box-sizing: border-box;top: 0;bottom: 0;left: 50%;z-index: -1;}#sk-container-id-1 div.sk-parallel-item {display: flex;flex-direction: column;z-index: 1;position: relative;background-color: white;}#sk-container-id-1 div.sk-parallel-item:first-child::after {align-self: flex-end;width: 50%;}#sk-container-id-1 div.sk-parallel-item:last-child::after {align-self: flex-start;width: 50%;}#sk-container-id-1 div.sk-parallel-item:only-child::after {width: 0;}#sk-container-id-1 div.sk-dashed-wrapped {border: 1px dashed gray;margin: 0 0.4em 0.5em 0.4em;box-sizing: border-box;padding-bottom: 0.4em;background-color: white;}#sk-container-id-1 div.sk-label label {font-family: monospace;font-weight: bold;display: inline-block;line-height: 1.2em;}#sk-container-id-1 div.sk-label-container {text-align: center;}#sk-container-id-1 div.sk-container {/* jupyter's `normalize.less` sets `[hidden] { display: none; }` but bootstrap.min.css set `[hidden] { display: none !important; }` so we also need the `!important` here to be able to override the default hidden behavior on the sphinx rendered scikit-learn.org. See: https://github.com/scikit-learn/scikit-learn/issues/21755 */display: inline-block !important;position: relative;}#sk-container-id-1 div.sk-text-repr-fallback {display: none;}</style><div id=\"sk-container-id-1\" class=\"sk-top-container\"><div class=\"sk-text-repr-fallback\"><pre>KMeans(n_clusters=3, n_init=&#x27;auto&#x27;, random_state=0)</pre><b>In a Jupyter environment, please rerun this cell to show the HTML representation or trust the notebook. <br />On GitHub, the HTML representation is unable to render, please try loading this page with nbviewer.org.</b></div><div class=\"sk-container\" hidden><div class=\"sk-item\"><div class=\"sk-estimator sk-toggleable\"><input class=\"sk-toggleable__control sk-hidden--visually\" id=\"sk-estimator-id-1\" type=\"checkbox\" checked><label for=\"sk-estimator-id-1\" class=\"sk-toggleable__label sk-toggleable__label-arrow\">KMeans</label><div class=\"sk-toggleable__content\"><pre>KMeans(n_clusters=3, n_init=&#x27;auto&#x27;, random_state=0)</pre></div></div></div></div></div>"
      ],
      "text/plain": [
       "KMeans(n_clusters=3, n_init='auto', random_state=0)"
      ]
     },
     "execution_count": 20,
     "metadata": {},
     "output_type": "execute_result"
    }
   ],
   "source": [
    "#ทดลองใช้ โดยกำหนด n_clusters=3\n",
    "kmeans = KMeans(n_clusters=3, random_state=0, n_init=\"auto\") #define model \n",
    "kmeans.fit(X_std) #fit model"
   ]
  },
  {
   "cell_type": "code",
   "execution_count": 21,
   "id": "5efde8f2",
   "metadata": {},
   "outputs": [
    {
     "data": {
      "text/plain": [
       "538.0701586727835"
      ]
     },
     "execution_count": 21,
     "metadata": {},
     "output_type": "execute_result"
    }
   ],
   "source": [
    "#หา sse\n",
    "kmeans.inertia_"
   ]
  },
  {
   "cell_type": "code",
   "execution_count": 22,
   "id": "f053f339",
   "metadata": {},
   "outputs": [
    {
     "data": {
      "text/plain": [
       "0.2056472709957979"
      ]
     },
     "execution_count": 22,
     "metadata": {},
     "output_type": "execute_result"
    }
   ],
   "source": [
    "#หา NMI\n",
    "from sklearn.metrics.cluster import normalized_mutual_info_score\n",
    "normalized_mutual_info_score(y,kmeans.labels_) #เทียบค่า ground truth กับค่าที่ได้จากการ predic(fit mobel)"
   ]
  },
  {
   "cell_type": "code",
   "execution_count": 23,
   "id": "2e78eeb4",
   "metadata": {},
   "outputs": [
    {
     "data": {
      "text/plain": [
       "array([[ 0.0600358 ,  0.22771539,  0.14772784,  0.13526989,  0.23722907,\n",
       "         0.16358212],\n",
       "       [ 2.05774708,  1.85875995,  1.84266713,  1.98002531,  1.66916948,\n",
       "         1.58030588],\n",
       "       [-0.72162231, -0.86828375, -0.76343202, -0.79105895, -0.82056763,\n",
       "        -0.70075573]])"
      ]
     },
     "execution_count": 23,
     "metadata": {},
     "output_type": "execute_result"
    }
   ],
   "source": [
    "#จากผลลัพธ์จะเห็นว่ามี 3 centroids โดย centroids ที่ 1 feature ที่ 1 คือ 0.0600358\n",
    "kmeans.cluster_centers_ "
   ]
  },
  {
   "cell_type": "code",
   "execution_count": 24,
   "id": "44c798c3",
   "metadata": {},
   "outputs": [
    {
     "data": {
      "text/plain": [
       "array([1, 1, 1, 1, 1, 1, 1, 1, 1, 1, 1, 1, 0, 0, 1, 0, 0, 0, 2, 0, 0, 0,\n",
       "       0, 0, 0, 0, 0, 0, 0, 0, 0, 0, 0, 0, 2, 2, 2, 2, 2, 1, 1, 1, 1, 0,\n",
       "       0, 0, 1, 0, 0, 0, 0, 0, 0, 0, 0, 0, 0, 0, 0, 0, 0, 0, 0, 0, 0, 0,\n",
       "       0, 0, 0, 0, 0, 0, 0, 0, 2, 0, 2, 0, 0, 0, 0, 2, 2, 2, 2, 2, 1, 1,\n",
       "       1, 1, 1, 1, 1, 1, 1, 1, 1, 1, 0, 1, 0, 0, 0, 0, 1, 1, 0, 0, 0, 0,\n",
       "       0, 0, 0, 0, 0, 0, 0, 0, 0, 0, 0, 0, 0, 0, 0, 0, 0, 0, 0, 0, 0, 0,\n",
       "       0, 0, 0, 0, 0, 0, 0, 0, 0, 0, 0, 0, 0, 0, 0, 0, 0, 0, 0, 0, 0, 0,\n",
       "       0, 0, 0, 0, 0, 0, 2, 0, 0, 2, 2, 0, 0, 0, 0, 0, 0, 0, 2, 0, 2, 0,\n",
       "       0, 0, 2, 2, 2, 0, 0, 2, 2, 2, 2, 0, 2, 2, 2, 0, 2, 2, 2, 2, 2, 2,\n",
       "       2, 2, 2, 2, 2, 2, 2, 2, 2, 2, 2, 2, 2, 2, 2, 2, 2, 2, 2, 2, 2, 2,\n",
       "       2, 2, 2, 2, 2, 2, 2, 2, 2, 2, 2, 2, 2, 2, 2, 2, 2, 2, 2, 2, 2, 2,\n",
       "       2, 2, 2, 2, 2, 2, 2, 2, 2, 2, 2, 2, 2, 2, 2, 2, 2, 2, 2, 2, 2, 2,\n",
       "       2, 2, 2, 2, 2])"
      ]
     },
     "execution_count": 24,
     "metadata": {},
     "output_type": "execute_result"
    }
   ],
   "source": [
    "#เป็นการบอกว่าแต่ละตัวอยู่ cluster ไหน\n",
    "kmeans.labels_ "
   ]
  },
  {
   "cell_type": "markdown",
   "id": "3afc26f6",
   "metadata": {},
   "source": [
    "# agglomerative"
   ]
  },
  {
   "cell_type": "code",
   "execution_count": 25,
   "id": "1c156e07",
   "metadata": {},
   "outputs": [
    {
     "data": {
      "text/html": [
       "<style>#sk-container-id-2 {color: black;}#sk-container-id-2 pre{padding: 0;}#sk-container-id-2 div.sk-toggleable {background-color: white;}#sk-container-id-2 label.sk-toggleable__label {cursor: pointer;display: block;width: 100%;margin-bottom: 0;padding: 0.3em;box-sizing: border-box;text-align: center;}#sk-container-id-2 label.sk-toggleable__label-arrow:before {content: \"▸\";float: left;margin-right: 0.25em;color: #696969;}#sk-container-id-2 label.sk-toggleable__label-arrow:hover:before {color: black;}#sk-container-id-2 div.sk-estimator:hover label.sk-toggleable__label-arrow:before {color: black;}#sk-container-id-2 div.sk-toggleable__content {max-height: 0;max-width: 0;overflow: hidden;text-align: left;background-color: #f0f8ff;}#sk-container-id-2 div.sk-toggleable__content pre {margin: 0.2em;color: black;border-radius: 0.25em;background-color: #f0f8ff;}#sk-container-id-2 input.sk-toggleable__control:checked~div.sk-toggleable__content {max-height: 200px;max-width: 100%;overflow: auto;}#sk-container-id-2 input.sk-toggleable__control:checked~label.sk-toggleable__label-arrow:before {content: \"▾\";}#sk-container-id-2 div.sk-estimator input.sk-toggleable__control:checked~label.sk-toggleable__label {background-color: #d4ebff;}#sk-container-id-2 div.sk-label input.sk-toggleable__control:checked~label.sk-toggleable__label {background-color: #d4ebff;}#sk-container-id-2 input.sk-hidden--visually {border: 0;clip: rect(1px 1px 1px 1px);clip: rect(1px, 1px, 1px, 1px);height: 1px;margin: -1px;overflow: hidden;padding: 0;position: absolute;width: 1px;}#sk-container-id-2 div.sk-estimator {font-family: monospace;background-color: #f0f8ff;border: 1px dotted black;border-radius: 0.25em;box-sizing: border-box;margin-bottom: 0.5em;}#sk-container-id-2 div.sk-estimator:hover {background-color: #d4ebff;}#sk-container-id-2 div.sk-parallel-item::after {content: \"\";width: 100%;border-bottom: 1px solid gray;flex-grow: 1;}#sk-container-id-2 div.sk-label:hover label.sk-toggleable__label {background-color: #d4ebff;}#sk-container-id-2 div.sk-serial::before {content: \"\";position: absolute;border-left: 1px solid gray;box-sizing: border-box;top: 0;bottom: 0;left: 50%;z-index: 0;}#sk-container-id-2 div.sk-serial {display: flex;flex-direction: column;align-items: center;background-color: white;padding-right: 0.2em;padding-left: 0.2em;position: relative;}#sk-container-id-2 div.sk-item {position: relative;z-index: 1;}#sk-container-id-2 div.sk-parallel {display: flex;align-items: stretch;justify-content: center;background-color: white;position: relative;}#sk-container-id-2 div.sk-item::before, #sk-container-id-2 div.sk-parallel-item::before {content: \"\";position: absolute;border-left: 1px solid gray;box-sizing: border-box;top: 0;bottom: 0;left: 50%;z-index: -1;}#sk-container-id-2 div.sk-parallel-item {display: flex;flex-direction: column;z-index: 1;position: relative;background-color: white;}#sk-container-id-2 div.sk-parallel-item:first-child::after {align-self: flex-end;width: 50%;}#sk-container-id-2 div.sk-parallel-item:last-child::after {align-self: flex-start;width: 50%;}#sk-container-id-2 div.sk-parallel-item:only-child::after {width: 0;}#sk-container-id-2 div.sk-dashed-wrapped {border: 1px dashed gray;margin: 0 0.4em 0.5em 0.4em;box-sizing: border-box;padding-bottom: 0.4em;background-color: white;}#sk-container-id-2 div.sk-label label {font-family: monospace;font-weight: bold;display: inline-block;line-height: 1.2em;}#sk-container-id-2 div.sk-label-container {text-align: center;}#sk-container-id-2 div.sk-container {/* jupyter's `normalize.less` sets `[hidden] { display: none; }` but bootstrap.min.css set `[hidden] { display: none !important; }` so we also need the `!important` here to be able to override the default hidden behavior on the sphinx rendered scikit-learn.org. See: https://github.com/scikit-learn/scikit-learn/issues/21755 */display: inline-block !important;position: relative;}#sk-container-id-2 div.sk-text-repr-fallback {display: none;}</style><div id=\"sk-container-id-2\" class=\"sk-top-container\"><div class=\"sk-text-repr-fallback\"><pre>AgglomerativeClustering(linkage=&#x27;single&#x27;, n_clusters=3)</pre><b>In a Jupyter environment, please rerun this cell to show the HTML representation or trust the notebook. <br />On GitHub, the HTML representation is unable to render, please try loading this page with nbviewer.org.</b></div><div class=\"sk-container\" hidden><div class=\"sk-item\"><div class=\"sk-estimator sk-toggleable\"><input class=\"sk-toggleable__control sk-hidden--visually\" id=\"sk-estimator-id-2\" type=\"checkbox\" checked><label for=\"sk-estimator-id-2\" class=\"sk-toggleable__label sk-toggleable__label-arrow\">AgglomerativeClustering</label><div class=\"sk-toggleable__content\"><pre>AgglomerativeClustering(linkage=&#x27;single&#x27;, n_clusters=3)</pre></div></div></div></div></div>"
      ],
      "text/plain": [
       "AgglomerativeClustering(linkage='single', n_clusters=3)"
      ]
     },
     "execution_count": 25,
     "metadata": {},
     "output_type": "execute_result"
    }
   ],
   "source": [
    "#agglomerative กำหนด n_clusters=3\n",
    "clustering = AgglomerativeClustering(n_clusters=3, linkage = 'single') #define model \n",
    "clustering.fit(X_std) #fit model"
   ]
  },
  {
   "cell_type": "code",
   "execution_count": 26,
   "id": "473fd8fe",
   "metadata": {},
   "outputs": [
    {
     "data": {
      "text/plain": [
       "0.06660298824915248"
      ]
     },
     "execution_count": 26,
     "metadata": {},
     "output_type": "execute_result"
    }
   ],
   "source": [
    "##evaluation\n",
    "#หา NMI\n",
    "normalized_mutual_info_score(y,clustering.labels_) #เทียบค่า ground truth กับค่าที่ได้จากการ predic(fit mobel)"
   ]
  },
  {
   "cell_type": "code",
   "execution_count": 27,
   "id": "fd3a6c57",
   "metadata": {},
   "outputs": [
    {
     "data": {
      "image/png": "[encoded data removed]",
      "text/plain": [
       "<Figure size 5000x1500 with 1 Axes>"
      ]
     },
     "metadata": {},
     "output_type": "display_data"
    }
   ],
   "source": [
    "from scipy.cluster.hierarchy import dendrogram, linkage\n",
    "plt.figure(facecolor='w', figsize=(50,15))\n",
    "dendrogram(linkage(X_std, method='average'), leaf_font_size=15)\n",
    "plt.show()"
   ]
  }
 ],
 "metadata": {
  "kernelspec": {
   "display_name": "Python 3 (ipykernel)",
   "language": "python",
   "name": "python3"
  },
  "language_info": {
   "codemirror_mode": {
    "name": "ipython",
    "version": 3
   },
   "file_extension": ".py",
   "mimetype": "text/x-python",
   "name": "python",
   "nbconvert_exporter": "python",
   "pygments_lexer": "ipython3",
   "version": "3.8.17"
  }
 },
 "nbformat": 4,
 "nbformat_minor": 5
}
